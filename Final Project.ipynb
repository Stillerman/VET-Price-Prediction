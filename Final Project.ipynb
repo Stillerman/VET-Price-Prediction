{
 "cells": [
  {
   "cell_type": "code",
   "execution_count": 150,
   "id": "e01415f7",
   "metadata": {},
   "outputs": [],
   "source": [
    "# import modules\n",
    "import numpy as np\n",
    "import pandas as pd\n",
    "import matplotlib.pyplot as plt\n",
    "import os\n",
    "\n",
    "# sklearn utilities\n",
    "from sklearn import datasets\n",
    "from sklearn.model_selection import train_test_split\n",
    "from sklearn.linear_model import LogisticRegression\n",
    "from sklearn.metrics import confusion_matrix, classification_report, precision_recall_curve, mean_squared_error\n",
    "from sklearn.preprocessing import LabelEncoder\n",
    "from sklearn.preprocessing import PolynomialFeatures\n",
    "\n",
    "# sklearn models\n",
    "from sklearn.linear_model import LogisticRegression, LinearRegression\n",
    "from sklearn.tree import DecisionTreeClassifier\n",
    "from sklearn.svm import SVC\n",
    "from sklearn.ensemble import RandomForestClassifier\n",
    "from sklearn.decomposition import PCA"
   ]
  },
  {
   "cell_type": "code",
   "execution_count": 80,
   "id": "6f08564c",
   "metadata": {},
   "outputs": [
    {
     "data": {
      "text/plain": [
       "(1144,)"
      ]
     },
     "execution_count": 80,
     "metadata": {},
     "output_type": "execute_result"
    }
   ],
   "source": [
    "path = os.getcwd() + '\\\\Structured_data.csv'\n",
    "data = pd.read_csv(path, header=0)\n",
    "data.head()\n",
    "\n",
    "# Create dataframe using relevant colums\n",
    "# x = data[[\"Datetime\",\"Open_BTC\",\"High_BTC\",\"Low_BTC\",\"Close_BTC\",\"Volume_BTC\",\"Dividends_BTC\",\"Stock Splits_BTC\",\n",
    "#           \"Open_diff_BTC\",\"High_diff_BTC\",\"Close_diff_BTC\",\"Volume_diff_BTC\",\"Open_VET\",\"High_VET\",\"Low_VET\",\"Close_VET\",\n",
    "#           \"Volume_VET\",\"Dividends_VET\",\"Stock Splits_VET\",\"Open_diff_VET\",\"High_diff_VET\",\"Close_diff_VET\",\"Volume_diff_VET\"]]\n",
    "\n",
    "# Create targets using next timestep\n",
    "# y_VET = []\n",
    "# for i in range(0, len(data.index) - 1):\n",
    "#     y_VET.append(x.iloc[i + 1][\"Close_VET\"])\n",
    "\n",
    "# Assign it to np array\n",
    "# y_VET = np.array([y_VET])\n",
    "\n",
    "# Remove last row since we can't have target for last row\n",
    "# x = x[:-1]\n",
    "\n",
    "df = data.iloc[:, :-2]\n",
    "df.head()\n",
    "\n",
    "y_Reg_VET = data.iloc[:, -2:-1].values.ravel()\n",
    "y_Reg_VET.shape\n",
    "\n",
    "y_Class_VET = data.iloc[:, -1:].values.ravel()\n",
    "y_Class_VET.shape"
   ]
  },
  {
   "cell_type": "code",
   "execution_count": 99,
   "id": "207ceda4",
   "metadata": {},
   "outputs": [
    {
     "name": "stdout",
     "output_type": "stream",
     "text": [
      "[1. 0. 1. ... 0. 1. 0.]\n"
     ]
    },
    {
     "data": {
      "text/html": [
       "<div>\n",
       "<style scoped>\n",
       "    .dataframe tbody tr th:only-of-type {\n",
       "        vertical-align: middle;\n",
       "    }\n",
       "\n",
       "    .dataframe tbody tr th {\n",
       "        vertical-align: top;\n",
       "    }\n",
       "\n",
       "    .dataframe thead th {\n",
       "        text-align: right;\n",
       "    }\n",
       "</style>\n",
       "<table border=\"1\" class=\"dataframe\">\n",
       "  <thead>\n",
       "    <tr style=\"text-align: right;\">\n",
       "      <th></th>\n",
       "      <th>Target-20_Open_VET</th>\n",
       "      <th>Target-20_High_VET</th>\n",
       "      <th>Target-20_Low_VET</th>\n",
       "      <th>Target-20_Close_VET</th>\n",
       "      <th>Target-20_Volume_VET</th>\n",
       "      <th>Target-20_Open_BTC</th>\n",
       "      <th>Target-20_High_BTC</th>\n",
       "      <th>Target-20_Low_BTC</th>\n",
       "      <th>Target-20_Close_BTC</th>\n",
       "      <th>Target-20_Volume_BTC</th>\n",
       "      <th>...</th>\n",
       "      <th>Target-1_Close_VET</th>\n",
       "      <th>Target-1_Volume_VET</th>\n",
       "      <th>Target-1_Open_BTC</th>\n",
       "      <th>Target-1_High_BTC</th>\n",
       "      <th>Target-1_Low_BTC</th>\n",
       "      <th>Target-1_Close_BTC</th>\n",
       "      <th>Target-1_Volume_BTC</th>\n",
       "      <th>Target-1_SMA20</th>\n",
       "      <th>Target-1_Upper_Bollinger_Band</th>\n",
       "      <th>Target-1_Lower_Bollinger_Band</th>\n",
       "    </tr>\n",
       "  </thead>\n",
       "  <tbody>\n",
       "    <tr>\n",
       "      <th>0</th>\n",
       "      <td>0.014743</td>\n",
       "      <td>0.014743</td>\n",
       "      <td>0.013981</td>\n",
       "      <td>0.014535</td>\n",
       "      <td>19980000</td>\n",
       "      <td>6551.520020</td>\n",
       "      <td>6719.959961</td>\n",
       "      <td>6498.640137</td>\n",
       "      <td>6719.959961</td>\n",
       "      <td>4097820000</td>\n",
       "      <td>...</td>\n",
       "      <td>0.013835</td>\n",
       "      <td>25123900</td>\n",
       "      <td>6317.009766</td>\n",
       "      <td>6363.870117</td>\n",
       "      <td>6265.089844</td>\n",
       "      <td>6351.799805</td>\n",
       "      <td>4064230000</td>\n",
       "      <td>0.016273</td>\n",
       "      <td>0.019782</td>\n",
       "      <td>0.012764</td>\n",
       "    </tr>\n",
       "    <tr>\n",
       "      <th>1</th>\n",
       "      <td>0.014552</td>\n",
       "      <td>0.015735</td>\n",
       "      <td>0.014244</td>\n",
       "      <td>0.015413</td>\n",
       "      <td>24453700</td>\n",
       "      <td>6719.950195</td>\n",
       "      <td>6789.629883</td>\n",
       "      <td>6700.959961</td>\n",
       "      <td>6763.189941</td>\n",
       "      <td>3312600000</td>\n",
       "      <td>...</td>\n",
       "      <td>0.014060</td>\n",
       "      <td>28222000</td>\n",
       "      <td>6354.240234</td>\n",
       "      <td>6535.410156</td>\n",
       "      <td>6354.240234</td>\n",
       "      <td>6517.310059</td>\n",
       "      <td>4210910000</td>\n",
       "      <td>0.016249</td>\n",
       "      <td>0.019811</td>\n",
       "      <td>0.012688</td>\n",
       "    </tr>\n",
       "    <tr>\n",
       "      <th>2</th>\n",
       "      <td>0.015390</td>\n",
       "      <td>0.015446</td>\n",
       "      <td>0.014513</td>\n",
       "      <td>0.015233</td>\n",
       "      <td>20503900</td>\n",
       "      <td>6754.640137</td>\n",
       "      <td>6774.750000</td>\n",
       "      <td>6620.750000</td>\n",
       "      <td>6707.259766</td>\n",
       "      <td>3295500000</td>\n",
       "      <td>...</td>\n",
       "      <td>0.013978</td>\n",
       "      <td>16430800</td>\n",
       "      <td>6515.410156</td>\n",
       "      <td>6596.100098</td>\n",
       "      <td>6456.169922</td>\n",
       "      <td>6512.709961</td>\n",
       "      <td>4076220000</td>\n",
       "      <td>0.016178</td>\n",
       "      <td>0.019857</td>\n",
       "      <td>0.012499</td>\n",
       "    </tr>\n",
       "    <tr>\n",
       "      <th>3</th>\n",
       "      <td>0.015222</td>\n",
       "      <td>0.017856</td>\n",
       "      <td>0.015210</td>\n",
       "      <td>0.017824</td>\n",
       "      <td>53968100</td>\n",
       "      <td>6710.799805</td>\n",
       "      <td>6884.640137</td>\n",
       "      <td>6689.709961</td>\n",
       "      <td>6884.640137</td>\n",
       "      <td>4019000000</td>\n",
       "      <td>...</td>\n",
       "      <td>0.014275</td>\n",
       "      <td>14368600</td>\n",
       "      <td>6509.399902</td>\n",
       "      <td>6561.720215</td>\n",
       "      <td>6493.549805</td>\n",
       "      <td>6543.200195</td>\n",
       "      <td>3216300000</td>\n",
       "      <td>0.016130</td>\n",
       "      <td>0.019879</td>\n",
       "      <td>0.012380</td>\n",
       "    </tr>\n",
       "    <tr>\n",
       "      <th>4</th>\n",
       "      <td>0.017839</td>\n",
       "      <td>0.018756</td>\n",
       "      <td>0.017549</td>\n",
       "      <td>0.017980</td>\n",
       "      <td>45607800</td>\n",
       "      <td>6891.080078</td>\n",
       "      <td>7109.560059</td>\n",
       "      <td>6882.339844</td>\n",
       "      <td>7096.279785</td>\n",
       "      <td>4659940000</td>\n",
       "      <td>...</td>\n",
       "      <td>0.014170</td>\n",
       "      <td>10220600</td>\n",
       "      <td>6536.680176</td>\n",
       "      <td>6544.330078</td>\n",
       "      <td>6460.100098</td>\n",
       "      <td>6517.180176</td>\n",
       "      <td>3273730000</td>\n",
       "      <td>0.015947</td>\n",
       "      <td>0.019699</td>\n",
       "      <td>0.012196</td>\n",
       "    </tr>\n",
       "  </tbody>\n",
       "</table>\n",
       "<p>5 rows × 260 columns</p>\n",
       "</div>"
      ],
      "text/plain": [
       "   Target-20_Open_VET  Target-20_High_VET  Target-20_Low_VET  \\\n",
       "0            0.014743            0.014743           0.013981   \n",
       "1            0.014552            0.015735           0.014244   \n",
       "2            0.015390            0.015446           0.014513   \n",
       "3            0.015222            0.017856           0.015210   \n",
       "4            0.017839            0.018756           0.017549   \n",
       "\n",
       "   Target-20_Close_VET  Target-20_Volume_VET  Target-20_Open_BTC  \\\n",
       "0             0.014535              19980000         6551.520020   \n",
       "1             0.015413              24453700         6719.950195   \n",
       "2             0.015233              20503900         6754.640137   \n",
       "3             0.017824              53968100         6710.799805   \n",
       "4             0.017980              45607800         6891.080078   \n",
       "\n",
       "   Target-20_High_BTC  Target-20_Low_BTC  Target-20_Close_BTC  \\\n",
       "0         6719.959961        6498.640137          6719.959961   \n",
       "1         6789.629883        6700.959961          6763.189941   \n",
       "2         6774.750000        6620.750000          6707.259766   \n",
       "3         6884.640137        6689.709961          6884.640137   \n",
       "4         7109.560059        6882.339844          7096.279785   \n",
       "\n",
       "   Target-20_Volume_BTC  ...  Target-1_Close_VET  Target-1_Volume_VET  \\\n",
       "0            4097820000  ...            0.013835             25123900   \n",
       "1            3312600000  ...            0.014060             28222000   \n",
       "2            3295500000  ...            0.013978             16430800   \n",
       "3            4019000000  ...            0.014275             14368600   \n",
       "4            4659940000  ...            0.014170             10220600   \n",
       "\n",
       "   Target-1_Open_BTC  Target-1_High_BTC  Target-1_Low_BTC  Target-1_Close_BTC  \\\n",
       "0        6317.009766        6363.870117       6265.089844         6351.799805   \n",
       "1        6354.240234        6535.410156       6354.240234         6517.310059   \n",
       "2        6515.410156        6596.100098       6456.169922         6512.709961   \n",
       "3        6509.399902        6561.720215       6493.549805         6543.200195   \n",
       "4        6536.680176        6544.330078       6460.100098         6517.180176   \n",
       "\n",
       "   Target-1_Volume_BTC  Target-1_SMA20  Target-1_Upper_Bollinger_Band  \\\n",
       "0           4064230000        0.016273                       0.019782   \n",
       "1           4210910000        0.016249                       0.019811   \n",
       "2           4076220000        0.016178                       0.019857   \n",
       "3           3216300000        0.016130                       0.019879   \n",
       "4           3273730000        0.015947                       0.019699   \n",
       "\n",
       "   Target-1_Lower_Bollinger_Band  \n",
       "0                       0.012764  \n",
       "1                       0.012688  \n",
       "2                       0.012499  \n",
       "3                       0.012380  \n",
       "4                       0.012196  \n",
       "\n",
       "[5 rows x 260 columns]"
      ]
     },
     "execution_count": 99,
     "metadata": {},
     "output_type": "execute_result"
    }
   ],
   "source": [
    "# Transforms datetime into incremental values\n",
    "# le = LabelEncoder()\n",
    "# x[\"Datetime\"] = le.fit_transform(x[\"Datetime\"])\n",
    "\n",
    "# Consider removing datetime from data\n",
    "# x.drop([\"Datetime\"], inplace=True, axis=1)\n",
    "\n",
    "print(y_Class_VET)\n",
    "df.head()\n"
   ]
  },
  {
   "cell_type": "code",
   "execution_count": 90,
   "id": "479d253a",
   "metadata": {},
   "outputs": [],
   "source": [
    "X_train, X_test, y_train, y_test = train_test_split(df, y_Class_VET, test_size=0.20, random_state=0, shuffle=False)"
   ]
  },
  {
   "cell_type": "markdown",
   "id": "b81bd9ed",
   "metadata": {},
   "source": [
    "## Logistic Regression"
   ]
  },
  {
   "cell_type": "code",
   "execution_count": 93,
   "id": "8b295ad7",
   "metadata": {},
   "outputs": [],
   "source": [
    "# Logistic Regression \n",
    "lg = LogisticRegression(random_state=0, max_iter=1000000)\n",
    "\n",
    "# Fit with training data\n",
    "lg.fit(X_train,y_train)\n",
    "predicted = lg.predict(X_test)"
   ]
  },
  {
   "cell_type": "code",
   "execution_count": 94,
   "id": "add604de",
   "metadata": {},
   "outputs": [
    {
     "name": "stdout",
     "output_type": "stream",
     "text": [
      "              precision    recall  f1-score   support\n",
      "\n",
      "         0.0       0.47      0.46      0.46       102\n",
      "         1.0       0.57      0.57      0.57       127\n",
      "\n",
      "    accuracy                           0.52       229\n",
      "   macro avg       0.52      0.52      0.52       229\n",
      "weighted avg       0.52      0.52      0.52       229\n",
      "\n"
     ]
    },
    {
     "data": {
      "image/png": "[encoded data removed]",
      "text/plain": [
       "<Figure size 432x288 with 1 Axes>"
      ]
     },
     "metadata": {
      "needs_background": "light"
     },
     "output_type": "display_data"
    }
   ],
   "source": [
    "# Confusion matrix to check predicted\n",
    "conf_matrix = confusion_matrix(y_test, predicted)\n",
    "conf_matrix = np.array(conf_matrix)\n",
    "conf_matrix = pd.DataFrame(data=conf_matrix)\n",
    "\n",
    "plt.imshow(conf_matrix)\n",
    "\n",
    "print(classification_report(y_test, predicted))"
   ]
  },
  {
   "cell_type": "code",
   "execution_count": 95,
   "id": "11e7cd4b",
   "metadata": {},
   "outputs": [
    {
     "data": {
      "text/plain": [
       "Text(0, 0.5, 'Precision')"
      ]
     },
     "execution_count": 95,
     "metadata": {},
     "output_type": "execute_result"
    },
    {
     "data": {
      "image/png": "[encoded data removed]",
      "text/plain": [
       "<Figure size 432x288 with 1 Axes>"
      ]
     },
     "metadata": {
      "needs_background": "light"
     },
     "output_type": "display_data"
    }
   ],
   "source": [
    "# Precision recall curve\n",
    "precision, recall, thresholds = precision_recall_curve(y_test, predicted)\n",
    "plt.plot(recall, precision)\n",
    "plt.title(\"Precision Recall Curve\")\n",
    "plt.xlabel(\"Recall\")\n",
    "plt.ylabel(\"Precision\")"
   ]
  },
  {
   "cell_type": "markdown",
   "id": "d639d2b2",
   "metadata": {},
   "source": [
    "## Polynomial Regression"
   ]
  },
  {
   "cell_type": "code",
   "execution_count": null,
   "id": "4b077e8e",
   "metadata": {},
   "outputs": [],
   "source": [
    "X_train, X_test, y_train, y_test = train_test_split(df, y_Reg_VET, test_size=0.20, random_state=0, shuffle=False)"
   ]
  },
  {
   "cell_type": "code",
   "execution_count": 154,
   "id": "ffb76f43",
   "metadata": {},
   "outputs": [
    {
     "name": "stdout",
     "output_type": "stream",
     "text": [
      "5.487424509530664e-09\n"
     ]
    },
    {
     "ename": "AttributeError",
     "evalue": "'LinearRegression' object has no attribute 'summary'",
     "output_type": "error",
     "traceback": [
      "\u001b[1;31m---------------------------------------------------------------------------\u001b[0m",
      "\u001b[1;31mAttributeError\u001b[0m                            Traceback (most recent call last)",
      "\u001b[1;32m<ipython-input-154-cfdaecf4df91>\u001b[0m in \u001b[0;36m<module>\u001b[1;34m\u001b[0m\n\u001b[0;32m     21\u001b[0m \u001b[0mprint\u001b[0m\u001b[1;33m(\u001b[0m\u001b[0mnp\u001b[0m\u001b[1;33m.\u001b[0m\u001b[0msqrt\u001b[0m\u001b[1;33m(\u001b[0m\u001b[0mmean_squared_error\u001b[0m\u001b[1;33m(\u001b[0m\u001b[0my_test\u001b[0m\u001b[1;33m,\u001b[0m \u001b[0mpredictions_poly\u001b[0m\u001b[1;33m)\u001b[0m\u001b[1;33m)\u001b[0m\u001b[1;33m)\u001b[0m\u001b[1;33m\u001b[0m\u001b[1;33m\u001b[0m\u001b[0m\n\u001b[0;32m     22\u001b[0m \u001b[1;33m\u001b[0m\u001b[0m\n\u001b[1;32m---> 23\u001b[1;33m \u001b[0mlg\u001b[0m\u001b[1;33m.\u001b[0m\u001b[0msummary\u001b[0m\u001b[1;33m(\u001b[0m\u001b[1;33m)\u001b[0m\u001b[1;33m\u001b[0m\u001b[1;33m\u001b[0m\u001b[0m\n\u001b[0m",
      "\u001b[1;31mAttributeError\u001b[0m: 'LinearRegression' object has no attribute 'summary'"
     ]
    }
   ],
   "source": [
    "# WIP Polynomial Regression as another way to model our data\n",
    "poly = PolynomialFeatures(degree=2)\n",
    "X_poly = poly.fit_transform(df)\n",
    "X_test_poly = poly.fit_transform(X_test)\n",
    "\n",
    "lg = LinearRegression()\n",
    "\n",
    "# Fit\n",
    "lg.fit(X_poly, y_Reg_VET)\n",
    "\n",
    "# Obtain coefficients\n",
    "# print(lg.coef_)\n",
    "\n",
    "# Predict\n",
    "predictions_poly = lg.predict(X_test_poly)\n",
    "# print(predictions_poly)\n",
    "\n",
    "lg.score(X_poly, y_Reg_VET)\n",
    "\n",
    "# RMSE Root-mean-square deviation\n",
    "print(np.sqrt(mean_squared_error(y_test, predictions_poly)))\n",
    "\n",
    "# Plotting the Least Squares Line\n",
    "sns.pairplot(data, x_vars=df.colums, y_vars='y_Reg_VET', size=7, aspect=0.7, kind='reg')"
   ]
  },
  {
   "cell_type": "code",
   "execution_count": 147,
   "id": "e5045a63",
   "metadata": {},
   "outputs": [
    {
     "data": {
      "text/plain": [
       "<matplotlib.collections.PathCollection at 0x11a803e8b20>"
      ]
     },
     "execution_count": 147,
     "metadata": {},
     "output_type": "execute_result"
    },
    {
     "data": {
      "image/png": "[encoded data removed]",
      "text/plain": [
       "<Figure size 432x288 with 1 Axes>"
      ]
     },
     "metadata": {
      "needs_background": "light"
     },
     "output_type": "display_data"
    }
   ],
   "source": [
    "# print(y_Reg_VET[:229])\n",
    "\n",
    "# print(y_Reg_VET[:229].shape)\n",
    "# print(predictions_poly.shape)\n",
    "# plt.scatter(y_Reg_VET[:229], predictions_poly)\n",
    "\n",
    "plt.scatter(np.arange(229), predictions_poly)\n",
    "\n",
    "plt.scatter(np.arange(229), y_Reg_VET[-229:])\n",
    "\n",
    "\n",
    "# residuals = np.subtract(predictions_poly, y_Reg_VET[-229:])\n",
    "\n",
    "# perc = np.zeros(len(residuals))\n",
    "# for i in range(0, len(residuals)):\n",
    "#     print(residuals[i])\n",
    "#     print(y_Reg_VET[-(229 - i)])\n",
    "#     perc[i] = (residuals[i] / y_Reg_VET[-(229 - i)]) * 100\n",
    "\n",
    "# print(perc)\n",
    "    \n",
    "# print(y_Reg_VET[-229:].shape)\n",
    "\n",
    "\n",
    "# plt.scatter(X_test[\"Close_VET\"], predictions_poly)"
   ]
  },
  {
   "cell_type": "code",
   "execution_count": null,
   "id": "6aeef9a5",
   "metadata": {},
   "outputs": [],
   "source": []
  },
  {
   "cell_type": "code",
   "execution_count": null,
   "id": "46f7ed68",
   "metadata": {},
   "outputs": [],
   "source": []
  }
 ],
 "metadata": {
  "kernelspec": {
   "display_name": "Python 3",
   "language": "python",
   "name": "python3"
  },
  "language_info": {
   "codemirror_mode": {
    "name": "ipython",
    "version": 3
   },
   "file_extension": ".py",
   "mimetype": "text/x-python",
   "name": "python",
   "nbconvert_exporter": "python",
   "pygments_lexer": "ipython3",
   "version": "3.8.8"
  }
 },
 "nbformat": 4,
 "nbformat_minor": 5
}
