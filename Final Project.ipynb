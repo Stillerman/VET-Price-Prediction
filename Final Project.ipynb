{
 "cells": [
  {
   "cell_type": "code",
   "execution_count": 167,
   "id": "e01415f7",
   "metadata": {},
   "outputs": [],
   "source": [
    "# import modules\n",
    "import numpy as np\n",
    "import pandas as pd\n",
    "import matplotlib.pyplot as plt\n",
    "import os\n",
    "\n",
    "# sklearn utilities\n",
    "from sklearn import datasets\n",
    "from sklearn.model_selection import train_test_split\n",
    "from sklearn.linear_model import LogisticRegression\n",
    "from sklearn.metrics import confusion_matrix, classification_report, precision_recall_curve, mean_squared_error, plot_confusion_matrix\n",
    "from sklearn.preprocessing import LabelEncoder\n",
    "from sklearn.preprocessing import PolynomialFeatures\n",
    "\n",
    "# sklearn models\n",
    "from sklearn.linear_model import LogisticRegression, LinearRegression\n",
    "from sklearn.tree import DecisionTreeClassifier\n",
    "from sklearn.svm import SVC\n",
    "from sklearn.ensemble import RandomForestClassifier\n",
    "from sklearn.decomposition import PCA"
   ]
  },
  {
   "cell_type": "code",
   "execution_count": 168,
   "id": "6f08564c",
   "metadata": {},
   "outputs": [
    {
     "data": {
      "text/plain": [
       "(1144,)"
      ]
     },
     "execution_count": 168,
     "metadata": {},
     "output_type": "execute_result"
    }
   ],
   "source": [
    "path = os.getcwd() + '\\\\Structured_data.csv'\n",
    "data = pd.read_csv(path, header=0)\n",
    "data.head()\n",
    "\n",
    "# Create dataframe using relevant colums\n",
    "# x = data[[\"Datetime\",\"Open_BTC\",\"High_BTC\",\"Low_BTC\",\"Close_BTC\",\"Volume_BTC\",\"Dividends_BTC\",\"Stock Splits_BTC\",\n",
    "#           \"Open_diff_BTC\",\"High_diff_BTC\",\"Close_diff_BTC\",\"Volume_diff_BTC\",\"Open_VET\",\"High_VET\",\"Low_VET\",\"Close_VET\",\n",
    "#           \"Volume_VET\",\"Dividends_VET\",\"Stock Splits_VET\",\"Open_diff_VET\",\"High_diff_VET\",\"Close_diff_VET\",\"Volume_diff_VET\"]]\n",
    "\n",
    "# Create targets using next timestep\n",
    "# y_VET = []\n",
    "# for i in range(0, len(data.index) - 1):\n",
    "#     y_VET.append(x.iloc[i + 1][\"Close_VET\"])\n",
    "\n",
    "# Assign it to np array\n",
    "# y_VET = np.array([y_VET])\n",
    "\n",
    "# Remove last row since we can't have target for last row\n",
    "# x = x[:-1]\n",
    "\n",
    "df = data.iloc[:, :-2]\n",
    "df.head()\n",
    "\n",
    "y_Reg_VET = data.iloc[:, -2:-1].values.ravel()\n",
    "y_Reg_VET.shape\n",
    "\n",
    "y_Class_VET = data.iloc[:, -1:].values.ravel()\n",
    "y_Class_VET.shape"
   ]
  },
  {
   "cell_type": "code",
   "execution_count": 169,
   "id": "207ceda4",
   "metadata": {},
   "outputs": [
    {
     "name": "stdout",
     "output_type": "stream",
     "text": [
      "[ 0.16538357  0.15046041  0.14293372 ... -0.23317506 -0.14386927\n",
      " -0.14837404]\n"
     ]
    },
    {
     "data": {
      "text/html": [
       "<div>\n",
       "<style scoped>\n",
       "    .dataframe tbody tr th:only-of-type {\n",
       "        vertical-align: middle;\n",
       "    }\n",
       "\n",
       "    .dataframe tbody tr th {\n",
       "        vertical-align: top;\n",
       "    }\n",
       "\n",
       "    .dataframe thead th {\n",
       "        text-align: right;\n",
       "    }\n",
       "</style>\n",
       "<table border=\"1\" class=\"dataframe\">\n",
       "  <thead>\n",
       "    <tr style=\"text-align: right;\">\n",
       "      <th></th>\n",
       "      <th>Target-20_Open_VET</th>\n",
       "      <th>Target-20_High_VET</th>\n",
       "      <th>Target-20_Low_VET</th>\n",
       "      <th>Target-20_Close_VET</th>\n",
       "      <th>Target-20_Volume_VET</th>\n",
       "      <th>Target-20_Open_BTC</th>\n",
       "      <th>Target-20_High_BTC</th>\n",
       "      <th>Target-20_Low_BTC</th>\n",
       "      <th>Target-20_Close_BTC</th>\n",
       "      <th>Target-20_Volume_BTC</th>\n",
       "      <th>...</th>\n",
       "      <th>Target-1_Open_Difference_From_Upper_Bollinger_Band</th>\n",
       "      <th>Target-1_High_Difference_From_Upper_Bollinger_Band</th>\n",
       "      <th>Target-1_Low_Difference_From_Upper_Bollinger_Band</th>\n",
       "      <th>Target-1_Close_Difference_From_Upper_Bollinger_Band</th>\n",
       "      <th>Target-1_Open_Difference_From_Lower_Bollinger_Band</th>\n",
       "      <th>Target-1_High_Difference_From_Lower_Bollinger_Band</th>\n",
       "      <th>Target-1_Low_Difference_From_Lower_Bollinger_Band</th>\n",
       "      <th>Target-1_Close_Difference_From_Lower_Bollinger_Band</th>\n",
       "      <th>Target-1_Open_Difference_From_SMA20</th>\n",
       "      <th>Target-1_High_Difference_From_SMA20</th>\n",
       "    </tr>\n",
       "  </thead>\n",
       "  <tbody>\n",
       "    <tr>\n",
       "      <th>0</th>\n",
       "      <td>1.0</td>\n",
       "      <td>1.000000</td>\n",
       "      <td>0.948314</td>\n",
       "      <td>0.985892</td>\n",
       "      <td>19980000</td>\n",
       "      <td>6551.520020</td>\n",
       "      <td>6719.959961</td>\n",
       "      <td>6498.640137</td>\n",
       "      <td>6719.959961</td>\n",
       "      <td>4097820000</td>\n",
       "      <td>...</td>\n",
       "      <td>1.328652</td>\n",
       "      <td>0.392822</td>\n",
       "      <td>0.545844</td>\n",
       "      <td>0.403403</td>\n",
       "      <td>0.852612</td>\n",
       "      <td>-0.083217</td>\n",
       "      <td>0.069804</td>\n",
       "      <td>-0.072636</td>\n",
       "      <td>1.090632</td>\n",
       "      <td>0.154802</td>\n",
       "    </tr>\n",
       "    <tr>\n",
       "      <th>1</th>\n",
       "      <td>1.0</td>\n",
       "      <td>1.081295</td>\n",
       "      <td>0.978835</td>\n",
       "      <td>1.059167</td>\n",
       "      <td>24453700</td>\n",
       "      <td>6719.950195</td>\n",
       "      <td>6789.629883</td>\n",
       "      <td>6700.959961</td>\n",
       "      <td>6763.189941</td>\n",
       "      <td>3312600000</td>\n",
       "      <td>...</td>\n",
       "      <td>1.347528</td>\n",
       "      <td>0.374763</td>\n",
       "      <td>0.449117</td>\n",
       "      <td>0.395172</td>\n",
       "      <td>0.858104</td>\n",
       "      <td>-0.114661</td>\n",
       "      <td>-0.040307</td>\n",
       "      <td>-0.094252</td>\n",
       "      <td>1.102816</td>\n",
       "      <td>0.130051</td>\n",
       "    </tr>\n",
       "    <tr>\n",
       "      <th>2</th>\n",
       "      <td>1.0</td>\n",
       "      <td>1.003639</td>\n",
       "      <td>0.943015</td>\n",
       "      <td>0.989799</td>\n",
       "      <td>20503900</td>\n",
       "      <td>6754.640137</td>\n",
       "      <td>6774.750000</td>\n",
       "      <td>6620.750000</td>\n",
       "      <td>6707.259766</td>\n",
       "      <td>3295500000</td>\n",
       "      <td>...</td>\n",
       "      <td>1.276142</td>\n",
       "      <td>0.357287</td>\n",
       "      <td>0.410828</td>\n",
       "      <td>0.381979</td>\n",
       "      <td>0.798052</td>\n",
       "      <td>-0.120802</td>\n",
       "      <td>-0.067261</td>\n",
       "      <td>-0.096111</td>\n",
       "      <td>1.037097</td>\n",
       "      <td>0.118242</td>\n",
       "    </tr>\n",
       "    <tr>\n",
       "      <th>3</th>\n",
       "      <td>1.0</td>\n",
       "      <td>1.173039</td>\n",
       "      <td>0.999212</td>\n",
       "      <td>1.170937</td>\n",
       "      <td>53968100</td>\n",
       "      <td>6710.799805</td>\n",
       "      <td>6884.640137</td>\n",
       "      <td>6689.709961</td>\n",
       "      <td>6884.640137</td>\n",
       "      <td>4019000000</td>\n",
       "      <td>...</td>\n",
       "      <td>1.292002</td>\n",
       "      <td>0.346231</td>\n",
       "      <td>0.402400</td>\n",
       "      <td>0.368173</td>\n",
       "      <td>0.799363</td>\n",
       "      <td>-0.146408</td>\n",
       "      <td>-0.090240</td>\n",
       "      <td>-0.124466</td>\n",
       "      <td>1.045683</td>\n",
       "      <td>0.099911</td>\n",
       "    </tr>\n",
       "    <tr>\n",
       "      <th>4</th>\n",
       "      <td>1.0</td>\n",
       "      <td>1.051404</td>\n",
       "      <td>0.983744</td>\n",
       "      <td>1.007904</td>\n",
       "      <td>45607800</td>\n",
       "      <td>6891.080078</td>\n",
       "      <td>7109.560059</td>\n",
       "      <td>6882.339844</td>\n",
       "      <td>7096.279785</td>\n",
       "      <td>4659940000</td>\n",
       "      <td>...</td>\n",
       "      <td>1.089974</td>\n",
       "      <td>0.300664</td>\n",
       "      <td>0.329477</td>\n",
       "      <td>0.309913</td>\n",
       "      <td>0.669390</td>\n",
       "      <td>-0.119920</td>\n",
       "      <td>-0.091106</td>\n",
       "      <td>-0.110670</td>\n",
       "      <td>0.879682</td>\n",
       "      <td>0.090372</td>\n",
       "    </tr>\n",
       "  </tbody>\n",
       "</table>\n",
       "<p>5 rows × 502 columns</p>\n",
       "</div>"
      ],
      "text/plain": [
       "   Target-20_Open_VET  Target-20_High_VET  Target-20_Low_VET  \\\n",
       "0                 1.0            1.000000           0.948314   \n",
       "1                 1.0            1.081295           0.978835   \n",
       "2                 1.0            1.003639           0.943015   \n",
       "3                 1.0            1.173039           0.999212   \n",
       "4                 1.0            1.051404           0.983744   \n",
       "\n",
       "   Target-20_Close_VET  Target-20_Volume_VET  Target-20_Open_BTC  \\\n",
       "0             0.985892              19980000         6551.520020   \n",
       "1             1.059167              24453700         6719.950195   \n",
       "2             0.989799              20503900         6754.640137   \n",
       "3             1.170937              53968100         6710.799805   \n",
       "4             1.007904              45607800         6891.080078   \n",
       "\n",
       "   Target-20_High_BTC  Target-20_Low_BTC  Target-20_Close_BTC  \\\n",
       "0         6719.959961        6498.640137          6719.959961   \n",
       "1         6789.629883        6700.959961          6763.189941   \n",
       "2         6774.750000        6620.750000          6707.259766   \n",
       "3         6884.640137        6689.709961          6884.640137   \n",
       "4         7109.560059        6882.339844          7096.279785   \n",
       "\n",
       "   Target-20_Volume_BTC  ...  \\\n",
       "0            4097820000  ...   \n",
       "1            3312600000  ...   \n",
       "2            3295500000  ...   \n",
       "3            4019000000  ...   \n",
       "4            4659940000  ...   \n",
       "\n",
       "   Target-1_Open_Difference_From_Upper_Bollinger_Band  \\\n",
       "0                                           1.328652    \n",
       "1                                           1.347528    \n",
       "2                                           1.276142    \n",
       "3                                           1.292002    \n",
       "4                                           1.089974    \n",
       "\n",
       "   Target-1_High_Difference_From_Upper_Bollinger_Band  \\\n",
       "0                                           0.392822    \n",
       "1                                           0.374763    \n",
       "2                                           0.357287    \n",
       "3                                           0.346231    \n",
       "4                                           0.300664    \n",
       "\n",
       "   Target-1_Low_Difference_From_Upper_Bollinger_Band  \\\n",
       "0                                           0.545844   \n",
       "1                                           0.449117   \n",
       "2                                           0.410828   \n",
       "3                                           0.402400   \n",
       "4                                           0.329477   \n",
       "\n",
       "   Target-1_Close_Difference_From_Upper_Bollinger_Band  \\\n",
       "0                                           0.403403     \n",
       "1                                           0.395172     \n",
       "2                                           0.381979     \n",
       "3                                           0.368173     \n",
       "4                                           0.309913     \n",
       "\n",
       "   Target-1_Open_Difference_From_Lower_Bollinger_Band  \\\n",
       "0                                           0.852612    \n",
       "1                                           0.858104    \n",
       "2                                           0.798052    \n",
       "3                                           0.799363    \n",
       "4                                           0.669390    \n",
       "\n",
       "   Target-1_High_Difference_From_Lower_Bollinger_Band  \\\n",
       "0                                          -0.083217    \n",
       "1                                          -0.114661    \n",
       "2                                          -0.120802    \n",
       "3                                          -0.146408    \n",
       "4                                          -0.119920    \n",
       "\n",
       "   Target-1_Low_Difference_From_Lower_Bollinger_Band  \\\n",
       "0                                           0.069804   \n",
       "1                                          -0.040307   \n",
       "2                                          -0.067261   \n",
       "3                                          -0.090240   \n",
       "4                                          -0.091106   \n",
       "\n",
       "   Target-1_Close_Difference_From_Lower_Bollinger_Band  \\\n",
       "0                                          -0.072636     \n",
       "1                                          -0.094252     \n",
       "2                                          -0.096111     \n",
       "3                                          -0.124466     \n",
       "4                                          -0.110670     \n",
       "\n",
       "   Target-1_Open_Difference_From_SMA20  Target-1_High_Difference_From_SMA20  \n",
       "0                             1.090632                             0.154802  \n",
       "1                             1.102816                             0.130051  \n",
       "2                             1.037097                             0.118242  \n",
       "3                             1.045683                             0.099911  \n",
       "4                             0.879682                             0.090372  \n",
       "\n",
       "[5 rows x 502 columns]"
      ]
     },
     "execution_count": 169,
     "metadata": {},
     "output_type": "execute_result"
    }
   ],
   "source": [
    "# Transforms datetime into incremental values\n",
    "# le = LabelEncoder()\n",
    "# x[\"Datetime\"] = le.fit_transform(x[\"Datetime\"])\n",
    "\n",
    "# Consider removing datetime from data\n",
    "# x.drop([\"Datetime\"], inplace=True, axis=1)\n",
    "\n",
    "print(y_Class_VET)\n",
    "df.head()\n"
   ]
  },
  {
   "cell_type": "code",
   "execution_count": 172,
   "id": "479d253a",
   "metadata": {},
   "outputs": [],
   "source": [
    "X_train, X_test, y_train, y_test = train_test_split(df, y_Class_VET, test_size=0.20, random_state=0, shuffle=False)"
   ]
  },
  {
   "cell_type": "markdown",
   "id": "b81bd9ed",
   "metadata": {},
   "source": [
    "## Logistic Regression"
   ]
  },
  {
   "cell_type": "code",
   "execution_count": 173,
   "id": "8b295ad7",
   "metadata": {},
   "outputs": [
    {
     "ename": "ValueError",
     "evalue": "Unknown label type: 'continuous'",
     "output_type": "error",
     "traceback": [
      "\u001b[1;31m---------------------------------------------------------------------------\u001b[0m",
      "\u001b[1;31mValueError\u001b[0m                                Traceback (most recent call last)",
      "\u001b[1;32m<ipython-input-173-5dece0c8aab9>\u001b[0m in \u001b[0;36m<module>\u001b[1;34m\u001b[0m\n\u001b[0;32m      3\u001b[0m \u001b[1;33m\u001b[0m\u001b[0m\n\u001b[0;32m      4\u001b[0m \u001b[1;31m# Fit with training data\u001b[0m\u001b[1;33m\u001b[0m\u001b[1;33m\u001b[0m\u001b[1;33m\u001b[0m\u001b[0m\n\u001b[1;32m----> 5\u001b[1;33m \u001b[0mlg\u001b[0m\u001b[1;33m.\u001b[0m\u001b[0mfit\u001b[0m\u001b[1;33m(\u001b[0m\u001b[0mX_train\u001b[0m\u001b[1;33m,\u001b[0m\u001b[0my_train\u001b[0m\u001b[1;33m)\u001b[0m\u001b[1;33m\u001b[0m\u001b[1;33m\u001b[0m\u001b[0m\n\u001b[0m\u001b[0;32m      6\u001b[0m \u001b[0mpredicted\u001b[0m \u001b[1;33m=\u001b[0m \u001b[0mlg\u001b[0m\u001b[1;33m.\u001b[0m\u001b[0mpredict\u001b[0m\u001b[1;33m(\u001b[0m\u001b[0mX_test\u001b[0m\u001b[1;33m)\u001b[0m\u001b[1;33m\u001b[0m\u001b[1;33m\u001b[0m\u001b[0m\n",
      "\u001b[1;32mD:\\anaconda3\\lib\\site-packages\\sklearn\\linear_model\\_logistic.py\u001b[0m in \u001b[0;36mfit\u001b[1;34m(self, X, y, sample_weight)\u001b[0m\n\u001b[0;32m   1345\u001b[0m                                    \u001b[0morder\u001b[0m\u001b[1;33m=\u001b[0m\u001b[1;34m\"C\"\u001b[0m\u001b[1;33m,\u001b[0m\u001b[1;33m\u001b[0m\u001b[1;33m\u001b[0m\u001b[0m\n\u001b[0;32m   1346\u001b[0m                                    accept_large_sparse=solver != 'liblinear')\n\u001b[1;32m-> 1347\u001b[1;33m         \u001b[0mcheck_classification_targets\u001b[0m\u001b[1;33m(\u001b[0m\u001b[0my\u001b[0m\u001b[1;33m)\u001b[0m\u001b[1;33m\u001b[0m\u001b[1;33m\u001b[0m\u001b[0m\n\u001b[0m\u001b[0;32m   1348\u001b[0m         \u001b[0mself\u001b[0m\u001b[1;33m.\u001b[0m\u001b[0mclasses_\u001b[0m \u001b[1;33m=\u001b[0m \u001b[0mnp\u001b[0m\u001b[1;33m.\u001b[0m\u001b[0munique\u001b[0m\u001b[1;33m(\u001b[0m\u001b[0my\u001b[0m\u001b[1;33m)\u001b[0m\u001b[1;33m\u001b[0m\u001b[1;33m\u001b[0m\u001b[0m\n\u001b[0;32m   1349\u001b[0m \u001b[1;33m\u001b[0m\u001b[0m\n",
      "\u001b[1;32mD:\\anaconda3\\lib\\site-packages\\sklearn\\utils\\multiclass.py\u001b[0m in \u001b[0;36mcheck_classification_targets\u001b[1;34m(y)\u001b[0m\n\u001b[0;32m    181\u001b[0m     if y_type not in ['binary', 'multiclass', 'multiclass-multioutput',\n\u001b[0;32m    182\u001b[0m                       'multilabel-indicator', 'multilabel-sequences']:\n\u001b[1;32m--> 183\u001b[1;33m         \u001b[1;32mraise\u001b[0m \u001b[0mValueError\u001b[0m\u001b[1;33m(\u001b[0m\u001b[1;34m\"Unknown label type: %r\"\u001b[0m \u001b[1;33m%\u001b[0m \u001b[0my_type\u001b[0m\u001b[1;33m)\u001b[0m\u001b[1;33m\u001b[0m\u001b[1;33m\u001b[0m\u001b[0m\n\u001b[0m\u001b[0;32m    184\u001b[0m \u001b[1;33m\u001b[0m\u001b[0m\n\u001b[0;32m    185\u001b[0m \u001b[1;33m\u001b[0m\u001b[0m\n",
      "\u001b[1;31mValueError\u001b[0m: Unknown label type: 'continuous'"
     ]
    }
   ],
   "source": [
    "# Logistic Regression \n",
    "lg = LogisticRegression(random_state=0, max_iter=1000000)\n",
    "\n",
    "# Fit with training data\n",
    "lg.fit(X_train,y_train)\n",
    "predicted = lg.predict(X_test)"
   ]
  },
  {
   "cell_type": "code",
   "execution_count": 165,
   "id": "add604de",
   "metadata": {},
   "outputs": [
    {
     "name": "stdout",
     "output_type": "stream",
     "text": [
      "              precision    recall  f1-score   support\n",
      "\n",
      "         0.0       0.47      0.46      0.46       102\n",
      "         1.0       0.57      0.57      0.57       127\n",
      "\n",
      "    accuracy                           0.52       229\n",
      "   macro avg       0.52      0.52      0.52       229\n",
      "weighted avg       0.52      0.52      0.52       229\n",
      "\n"
     ]
    },
    {
     "data": {
      "image/png": "[encoded data removed]",
      "text/plain": [
       "<Figure size 432x288 with 2 Axes>"
      ]
     },
     "metadata": {
      "needs_background": "light"
     },
     "output_type": "display_data"
    }
   ],
   "source": [
    "# Confusion matrix to check predicted\n",
    "print(classification_report(y_test, predicted))\n",
    "\n",
    "plot_confusion_matrix(lg, X_test, y_test)  \n",
    "plt.show()\n"
   ]
  },
  {
   "cell_type": "code",
   "execution_count": 161,
   "id": "11e7cd4b",
   "metadata": {},
   "outputs": [
    {
     "data": {
      "text/plain": [
       "Text(0, 0.5, 'Precision')"
      ]
     },
     "execution_count": 161,
     "metadata": {},
     "output_type": "execute_result"
    },
    {
     "data": {
      "image/png": "[encoded data removed]",
      "text/plain": [
       "<Figure size 432x288 with 1 Axes>"
      ]
     },
     "metadata": {
      "needs_background": "light"
     },
     "output_type": "display_data"
    }
   ],
   "source": [
    "# Precision recall curve\n",
    "precision, recall, thresholds = precision_recall_curve(y_test, predicted)\n",
    "plt.plot(recall, precision)\n",
    "plt.title(\"Precision Recall Curve\")\n",
    "plt.xlabel(\"Recall\")\n",
    "plt.ylabel(\"Precision\")"
   ]
  },
  {
   "cell_type": "markdown",
   "id": "d639d2b2",
   "metadata": {},
   "source": [
    "## Polynomial Regression"
   ]
  },
  {
   "cell_type": "code",
   "execution_count": null,
   "id": "2c9c9812",
   "metadata": {},
   "outputs": [],
   "source": [
    "X_train, X_test, y_train, y_test = train_test_split(df, y_Reg_VET, test_size=0.20, random_state=0, shuffle=False)"
   ]
  },
  {
   "cell_type": "code",
   "execution_count": 156,
   "id": "ffb76f43",
   "metadata": {},
   "outputs": [
    {
     "name": "stdout",
     "output_type": "stream",
     "text": [
      "5.487424509530664e-09\n"
     ]
    }
   ],
   "source": [
    "# WIP Polynomial Regression as another way to model our data\n",
    "poly = PolynomialFeatures(degree=2)\n",
    "X_poly = poly.fit_transform(df)\n",
    "X_test_poly = poly.fit_transform(X_test)\n",
    "\n",
    "lg = LinearRegression()\n",
    "\n",
    "# Fit\n",
    "lg.fit(X_poly, y_Reg_VET)\n",
    "\n",
    "# Obtain coefficients\n",
    "# print(lg.coef_)\n",
    "\n",
    "# Predict\n",
    "predictions_poly = lg.predict(X_test_poly)\n",
    "# print(predictions_poly)\n",
    "\n",
    "lg.score(X_poly, y_Reg_VET)\n",
    "\n",
    "# RMSE Root-mean-square deviation\n",
    "print(np.sqrt(mean_squared_error(y_test, predictions_poly)))"
   ]
  },
  {
   "cell_type": "code",
   "execution_count": 166,
   "id": "e5045a63",
   "metadata": {},
   "outputs": [
    {
     "name": "stdout",
     "output_type": "stream",
     "text": [
      "Index(['Target-20_Open_VET', 'Target-20_High_VET', 'Target-20_Low_VET',\n",
      "       'Target-20_Close_VET', 'Target-20_Volume_VET', 'Target-20_Open_BTC',\n",
      "       'Target-20_High_BTC', 'Target-20_Low_BTC', 'Target-20_Close_BTC',\n",
      "       'Target-20_Volume_BTC',\n",
      "       ...\n",
      "       'Target-1_Close_VET', 'Target-1_Volume_VET', 'Target-1_Open_BTC',\n",
      "       'Target-1_High_BTC', 'Target-1_Low_BTC', 'Target-1_Close_BTC',\n",
      "       'Target-1_Volume_BTC', 'Target-1_SMA20',\n",
      "       'Target-1_Upper_Bollinger_Band', 'Target-1_Lower_Bollinger_Band'],\n",
      "      dtype='object', length=260)\n"
     ]
    },
    {
     "data": {
      "image/png": "[encoded data removed]",
      "text/plain": [
       "<Figure size 432x288 with 1 Axes>"
      ]
     },
     "metadata": {
      "needs_background": "light"
     },
     "output_type": "display_data"
    }
   ],
   "source": [
    "print(y_Reg_VET[:229])\n",
    "\n",
    "# print(y_Reg_VET[:229].shape)\n",
    "# print(predictions_poly.shape)\n",
    "# plt.scatter(y_Reg_VET[:229], predictions_poly)\n",
    "\n",
    "plt.scatter(np.arange(229), predictions_poly)\n",
    "\n",
    "plt.scatter(np.arange(229), y_Reg_VET[-229:])\n",
    "\n",
    "\n",
    "# residuals = np.subtract(predictions_poly, y_Reg_VET[-229:])\n",
    "\n",
    "# perc = np.zeros(len(residuals))\n",
    "# for i in range(0, len(residuals)):\n",
    "#     print(residuals[i])\n",
    "#     print(y_Reg_VET[-(229 - i)])\n",
    "#     perc[i] = (residuals[i] / y_Reg_VET[-(229 - i)]) * 100\n",
    "\n",
    "# print(perc)\n",
    "    \n",
    "# print(y_Reg_VET[-229:].shape)\n",
    "\n",
    "\n",
    "# plt.scatter(X_test[\"Close_VET\"], predictions_poly)"
   ]
  },
  {
   "cell_type": "code",
   "execution_count": null,
   "id": "6aeef9a5",
   "metadata": {},
   "outputs": [],
   "source": []
  },
  {
   "cell_type": "code",
   "execution_count": null,
   "id": "46f7ed68",
   "metadata": {},
   "outputs": [],
   "source": []
  }
 ],
 "metadata": {
  "kernelspec": {
   "display_name": "Python 3",
   "language": "python",
   "name": "python3"
  },
  "language_info": {
   "codemirror_mode": {
    "name": "ipython",
    "version": 3
   },
   "file_extension": ".py",
   "mimetype": "text/x-python",
   "name": "python",
   "nbconvert_exporter": "python",
   "pygments_lexer": "ipython3",
   "version": "3.8.8"
  }
 },
 "nbformat": 4,
 "nbformat_minor": 5
}
