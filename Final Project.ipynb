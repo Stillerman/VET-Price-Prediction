{
 "cells": [
  {
   "cell_type": "code",
   "execution_count": 14,
   "id": "e01415f7",
   "metadata": {},
   "outputs": [],
   "source": [
    "# import modules\n",
    "import numpy as np\n",
    "import pandas as pd\n",
    "import matplotlib.pyplot as plt\n",
    "import os\n",
    "\n",
    "# sklearn utilities\n",
    "from sklearn import datasets\n",
    "from sklearn.model_selection import train_test_split\n",
    "from sklearn.linear_model import LogisticRegression\n",
    "from sklearn.metrics import confusion_matrix, classification_report\n",
    "from sklearn.preprocessing import LabelEncoder\n",
    "from sklearn.preprocessing import PolynomialFeatures\n",
    "\n",
    "# sklearn models\n",
    "from sklearn.linear_model import LogisticRegression, LinearRegression\n",
    "from sklearn.tree import DecisionTreeClassifier\n",
    "from sklearn.svm import SVC\n",
    "from sklearn.ensemble import RandomForestClassifier\n",
    "from sklearn.decomposition import PCA"
   ]
  },
  {
   "cell_type": "code",
   "execution_count": 15,
   "id": "6f08564c",
   "metadata": {},
   "outputs": [
    {
     "data": {
      "text/html": [
       "<div>\n",
       "<style scoped>\n",
       "    .dataframe tbody tr th:only-of-type {\n",
       "        vertical-align: middle;\n",
       "    }\n",
       "\n",
       "    .dataframe tbody tr th {\n",
       "        vertical-align: top;\n",
       "    }\n",
       "\n",
       "    .dataframe thead th {\n",
       "        text-align: right;\n",
       "    }\n",
       "</style>\n",
       "<table border=\"1\" class=\"dataframe\">\n",
       "  <thead>\n",
       "    <tr style=\"text-align: right;\">\n",
       "      <th></th>\n",
       "      <th>Datetime</th>\n",
       "      <th>Open_BTC</th>\n",
       "      <th>High_BTC</th>\n",
       "      <th>Low_BTC</th>\n",
       "      <th>Close_BTC</th>\n",
       "      <th>Volume_BTC</th>\n",
       "      <th>Dividends_BTC</th>\n",
       "      <th>Stock Splits_BTC</th>\n",
       "      <th>Open_diff_BTC</th>\n",
       "      <th>High_diff_BTC</th>\n",
       "      <th>...</th>\n",
       "      <th>High_VET</th>\n",
       "      <th>Low_VET</th>\n",
       "      <th>Close_VET</th>\n",
       "      <th>Volume_VET</th>\n",
       "      <th>Dividends_VET</th>\n",
       "      <th>Stock Splits_VET</th>\n",
       "      <th>Open_diff_VET</th>\n",
       "      <th>High_diff_VET</th>\n",
       "      <th>Close_diff_VET</th>\n",
       "      <th>Volume_diff_VET</th>\n",
       "    </tr>\n",
       "  </thead>\n",
       "  <tbody>\n",
       "    <tr>\n",
       "      <th>0</th>\n",
       "      <td>2021-10-23 20:28:00+01:00</td>\n",
       "      <td>61067.722656</td>\n",
       "      <td>61067.722656</td>\n",
       "      <td>61067.722656</td>\n",
       "      <td>61067.722656</td>\n",
       "      <td>0</td>\n",
       "      <td>0</td>\n",
       "      <td>0</td>\n",
       "      <td>0.000000</td>\n",
       "      <td>0.000000</td>\n",
       "      <td>...</td>\n",
       "      <td>0.134717</td>\n",
       "      <td>0.134717</td>\n",
       "      <td>0.134717</td>\n",
       "      <td>0.0</td>\n",
       "      <td>0.0</td>\n",
       "      <td>0.0</td>\n",
       "      <td>0.000000</td>\n",
       "      <td>0.000000</td>\n",
       "      <td>0.000000</td>\n",
       "      <td>0.0</td>\n",
       "    </tr>\n",
       "    <tr>\n",
       "      <th>1</th>\n",
       "      <td>2021-10-23 20:29:00+01:00</td>\n",
       "      <td>61043.609375</td>\n",
       "      <td>61043.609375</td>\n",
       "      <td>61043.609375</td>\n",
       "      <td>61043.609375</td>\n",
       "      <td>0</td>\n",
       "      <td>0</td>\n",
       "      <td>0</td>\n",
       "      <td>-24.113281</td>\n",
       "      <td>-24.113281</td>\n",
       "      <td>...</td>\n",
       "      <td>0.134687</td>\n",
       "      <td>0.134687</td>\n",
       "      <td>0.134687</td>\n",
       "      <td>7680.0</td>\n",
       "      <td>0.0</td>\n",
       "      <td>0.0</td>\n",
       "      <td>-0.000030</td>\n",
       "      <td>-0.000030</td>\n",
       "      <td>-0.000030</td>\n",
       "      <td>7680.0</td>\n",
       "    </tr>\n",
       "    <tr>\n",
       "      <th>2</th>\n",
       "      <td>2021-10-23 20:30:00+01:00</td>\n",
       "      <td>61051.675781</td>\n",
       "      <td>61051.675781</td>\n",
       "      <td>61051.675781</td>\n",
       "      <td>61051.675781</td>\n",
       "      <td>0</td>\n",
       "      <td>0</td>\n",
       "      <td>0</td>\n",
       "      <td>8.066406</td>\n",
       "      <td>8.066406</td>\n",
       "      <td>...</td>\n",
       "      <td>0.134875</td>\n",
       "      <td>0.134875</td>\n",
       "      <td>0.134875</td>\n",
       "      <td>231744.0</td>\n",
       "      <td>0.0</td>\n",
       "      <td>0.0</td>\n",
       "      <td>0.000188</td>\n",
       "      <td>0.000188</td>\n",
       "      <td>0.000188</td>\n",
       "      <td>224064.0</td>\n",
       "    </tr>\n",
       "    <tr>\n",
       "      <th>3</th>\n",
       "      <td>2021-10-23 20:31:00+01:00</td>\n",
       "      <td>61062.613281</td>\n",
       "      <td>61062.613281</td>\n",
       "      <td>61062.613281</td>\n",
       "      <td>61062.613281</td>\n",
       "      <td>0</td>\n",
       "      <td>0</td>\n",
       "      <td>0</td>\n",
       "      <td>10.937500</td>\n",
       "      <td>10.937500</td>\n",
       "      <td>...</td>\n",
       "      <td>0.134967</td>\n",
       "      <td>0.134967</td>\n",
       "      <td>0.134967</td>\n",
       "      <td>111488.0</td>\n",
       "      <td>0.0</td>\n",
       "      <td>0.0</td>\n",
       "      <td>0.000091</td>\n",
       "      <td>0.000091</td>\n",
       "      <td>0.000091</td>\n",
       "      <td>-120256.0</td>\n",
       "    </tr>\n",
       "    <tr>\n",
       "      <th>4</th>\n",
       "      <td>2021-10-23 20:32:00+01:00</td>\n",
       "      <td>61024.718750</td>\n",
       "      <td>61024.718750</td>\n",
       "      <td>61024.718750</td>\n",
       "      <td>61024.718750</td>\n",
       "      <td>0</td>\n",
       "      <td>0</td>\n",
       "      <td>0</td>\n",
       "      <td>-37.894531</td>\n",
       "      <td>-37.894531</td>\n",
       "      <td>...</td>\n",
       "      <td>0.134994</td>\n",
       "      <td>0.134994</td>\n",
       "      <td>0.134994</td>\n",
       "      <td>0.0</td>\n",
       "      <td>0.0</td>\n",
       "      <td>0.0</td>\n",
       "      <td>0.000027</td>\n",
       "      <td>0.000027</td>\n",
       "      <td>0.000027</td>\n",
       "      <td>-111488.0</td>\n",
       "    </tr>\n",
       "  </tbody>\n",
       "</table>\n",
       "<p>5 rows × 23 columns</p>\n",
       "</div>"
      ],
      "text/plain": [
       "                    Datetime      Open_BTC      High_BTC       Low_BTC  \\\n",
       "0  2021-10-23 20:28:00+01:00  61067.722656  61067.722656  61067.722656   \n",
       "1  2021-10-23 20:29:00+01:00  61043.609375  61043.609375  61043.609375   \n",
       "2  2021-10-23 20:30:00+01:00  61051.675781  61051.675781  61051.675781   \n",
       "3  2021-10-23 20:31:00+01:00  61062.613281  61062.613281  61062.613281   \n",
       "4  2021-10-23 20:32:00+01:00  61024.718750  61024.718750  61024.718750   \n",
       "\n",
       "      Close_BTC  Volume_BTC  Dividends_BTC  Stock Splits_BTC  Open_diff_BTC  \\\n",
       "0  61067.722656           0              0                 0       0.000000   \n",
       "1  61043.609375           0              0                 0     -24.113281   \n",
       "2  61051.675781           0              0                 0       8.066406   \n",
       "3  61062.613281           0              0                 0      10.937500   \n",
       "4  61024.718750           0              0                 0     -37.894531   \n",
       "\n",
       "   High_diff_BTC  ...  High_VET   Low_VET  Close_VET  Volume_VET  \\\n",
       "0       0.000000  ...  0.134717  0.134717   0.134717         0.0   \n",
       "1     -24.113281  ...  0.134687  0.134687   0.134687      7680.0   \n",
       "2       8.066406  ...  0.134875  0.134875   0.134875    231744.0   \n",
       "3      10.937500  ...  0.134967  0.134967   0.134967    111488.0   \n",
       "4     -37.894531  ...  0.134994  0.134994   0.134994         0.0   \n",
       "\n",
       "   Dividends_VET  Stock Splits_VET  Open_diff_VET  High_diff_VET  \\\n",
       "0            0.0               0.0       0.000000       0.000000   \n",
       "1            0.0               0.0      -0.000030      -0.000030   \n",
       "2            0.0               0.0       0.000188       0.000188   \n",
       "3            0.0               0.0       0.000091       0.000091   \n",
       "4            0.0               0.0       0.000027       0.000027   \n",
       "\n",
       "   Close_diff_VET  Volume_diff_VET  \n",
       "0        0.000000              0.0  \n",
       "1       -0.000030           7680.0  \n",
       "2        0.000188         224064.0  \n",
       "3        0.000091        -120256.0  \n",
       "4        0.000027        -111488.0  \n",
       "\n",
       "[5 rows x 23 columns]"
      ]
     },
     "execution_count": 15,
     "metadata": {},
     "output_type": "execute_result"
    }
   ],
   "source": [
    "path = os.getcwd() + '\\\\TEST_CSV.csv'\n",
    "data = pd.read_csv(path, header=0)\n",
    "data.head()\n",
    "\n",
    "x = data[[\"Datetime\",\"Open_BTC\",\"High_BTC\",\"Low_BTC\",\"Close_BTC\",\"Volume_BTC\",\"Dividends_BTC\",\"Stock Splits_BTC\",\n",
    "          \"Open_diff_BTC\",\"High_diff_BTC\",\"Close_diff_BTC\",\"Volume_diff_BTC\",\"Open_VET\",\"High_VET\",\"Low_VET\",\"Close_VET\",\n",
    "          \"Volume_VET\",\"Dividends_VET\",\"Stock Splits_VET\",\"Open_diff_VET\",\"High_diff_VET\",\"Close_diff_VET\",\"Volume_diff_VET\"]]\n",
    "\n",
    "y_VET = []\n",
    "for i in range(0, len(data.index) - 1):\n",
    "    y_VET.append(x.iloc[i + 1][\"Close_VET\"])\n",
    "    \n",
    "y_VET.append(0)\n",
    "y_VET = np.array([y_VET])\n",
    "\n",
    "x.head()"
   ]
  },
  {
   "cell_type": "code",
   "execution_count": 18,
   "id": "207ceda4",
   "metadata": {},
   "outputs": [
    {
     "name": "stderr",
     "output_type": "stream",
     "text": [
      "<ipython-input-18-7058bd905945>:3: SettingWithCopyWarning: \n",
      "A value is trying to be set on a copy of a slice from a DataFrame.\n",
      "Try using .loc[row_indexer,col_indexer] = value instead\n",
      "\n",
      "See the caveats in the documentation: https://pandas.pydata.org/pandas-docs/stable/user_guide/indexing.html#returning-a-view-versus-a-copy\n",
      "  x[\"Datetime\"] = le.fit_transform(x[\"Datetime\"])\n"
     ]
    }
   ],
   "source": [
    "# Transforms datetime into incremental values\n",
    "le = LabelEncoder()\n",
    "x[\"Datetime\"] = le.fit_transform(x[\"Datetime\"])"
   ]
  },
  {
   "cell_type": "code",
   "execution_count": 19,
   "id": "479d253a",
   "metadata": {},
   "outputs": [],
   "source": [
    "X_train, X_test, y_train, y_test = train_test_split(x, data[\"Green_VET\"], test_size=0.25, random_state=0)"
   ]
  },
  {
   "cell_type": "markdown",
   "id": "b81bd9ed",
   "metadata": {},
   "source": [
    "## Logistic Regression"
   ]
  },
  {
   "cell_type": "code",
   "execution_count": 20,
   "id": "8b295ad7",
   "metadata": {},
   "outputs": [],
   "source": [
    "lg = LogisticRegression(random_state=0, max_iter=1000000)\n",
    "lg.fit(X_train,y_train)\n",
    "predicted = lg.predict(X_test)"
   ]
  },
  {
   "cell_type": "code",
   "execution_count": 21,
   "id": "add604de",
   "metadata": {},
   "outputs": [
    {
     "data": {
      "text/plain": [
       "<matplotlib.image.AxesImage at 0x2ad6e14baf0>"
      ]
     },
     "execution_count": 21,
     "metadata": {},
     "output_type": "execute_result"
    },
    {
     "data": {
      "image/png": "[encoded data removed]",
      "text/plain": [
       "<Figure size 432x288 with 1 Axes>"
      ]
     },
     "metadata": {
      "needs_background": "light"
     },
     "output_type": "display_data"
    }
   ],
   "source": [
    "conf_matrix = confusion_matrix(y_test, predicted)\n",
    "conf_matrix = np.array(conf_matrix)\n",
    "conf_matrix = pd.DataFrame(data=conf_matrix)\n",
    "\n",
    "plt.imshow(conf_matrix)"
   ]
  },
  {
   "cell_type": "code",
   "execution_count": 22,
   "id": "11e7cd4b",
   "metadata": {},
   "outputs": [
    {
     "name": "stdout",
     "output_type": "stream",
     "text": [
      "              precision    recall  f1-score   support\n",
      "\n",
      "       False       0.64      0.85      0.73      1255\n",
      "        True       0.77      0.52      0.62      1244\n",
      "\n",
      "    accuracy                           0.68      2499\n",
      "   macro avg       0.70      0.68      0.67      2499\n",
      "weighted avg       0.70      0.68      0.67      2499\n",
      "\n"
     ]
    }
   ],
   "source": [
    "print(classification_report(y_test, predicted))"
   ]
  },
  {
   "cell_type": "markdown",
   "id": "d639d2b2",
   "metadata": {},
   "source": [
    "## Polynomial Regression"
   ]
  },
  {
   "cell_type": "code",
   "execution_count": 38,
   "id": "ffb76f43",
   "metadata": {},
   "outputs": [
    {
     "name": "stdout",
     "output_type": "stream",
     "text": [
      "[[0.13177344]\n",
      " [0.13710972]\n",
      " [0.13323063]\n",
      " ...\n",
      " [0.13273775]\n",
      " [0.1262743 ]\n",
      " [0.1364669 ]]\n"
     ]
    }
   ],
   "source": [
    "poly = PolynomialFeatures(degree=2)\n",
    "X_poly = poly.fit_transform(x)\n",
    "X_test_poly = poly.fit_transform(X_test)\n",
    "\n",
    "lg = LinearRegression()\n",
    "\n",
    "# Fit\n",
    "lg.fit(X_poly, y_VET.reshape(-1, 1))\n",
    "\n",
    "# Obtain coefficients\n",
    "# print(lg.coef_)\n",
    "\n",
    "# Predict\n",
    "print(lg.predict(X_test_poly))"
   ]
  },
  {
   "cell_type": "code",
   "execution_count": null,
   "id": "e5045a63",
   "metadata": {},
   "outputs": [],
   "source": []
  }
 ],
 "metadata": {
  "kernelspec": {
   "display_name": "Python 3",
   "language": "python",
   "name": "python3"
  },
  "language_info": {
   "codemirror_mode": {
    "name": "ipython",
    "version": 3
   },
   "file_extension": ".py",
   "mimetype": "text/x-python",
   "name": "python",
   "nbconvert_exporter": "python",
   "pygments_lexer": "ipython3",
   "version": "3.8.8"
  }
 },
 "nbformat": 4,
 "nbformat_minor": 5
}
